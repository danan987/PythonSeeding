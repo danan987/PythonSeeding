{
  "nbformat": 4,
  "nbformat_minor": 0,
  "metadata": {
    "colab": {
      "provenance": [],
      "collapsed_sections": [
        "NEbrPUOmUq8K",
        "KdvOhJfyVLQU",
        "hahm8YSqcq5F",
        "YmW3cON4csic",
        "h6GJiGGwV5PA"
      ],
      "include_colab_link": true
    },
    "kernelspec": {
      "name": "python3",
      "display_name": "Python 3"
    },
    "language_info": {
      "name": "python"
    }
  },
  "cells": [
    {
      "cell_type": "markdown",
      "metadata": {
        "id": "view-in-github",
        "colab_type": "text"
      },
      "source": [
        "<a href=\"https://colab.research.google.com/github/danan987/PythonSeeding/blob/main/SeedMovies.ipynb\" target=\"_parent\"><img src=\"https://colab.research.google.com/assets/colab-badge.svg\" alt=\"Open In Colab\"/></a>"
      ]
    },
    {
      "cell_type": "markdown",
      "metadata": {
        "id": "PI3SRWODaVOR"
      },
      "source": [
        "## Iterating through pandas dataframes\n",
        "- We can use the DataFrame method iterrows() to create a list of the DataFrame rows that we access through variables"
      ]
    },
    {
      "cell_type": "code",
      "source": [
        "import pandas as pd\n",
        "from google.colab import files\n"
      ],
      "metadata": {
        "id": "lTj_6qRI3iWn"
      },
      "execution_count": null,
      "outputs": []
    },
    {
      "cell_type": "code",
      "source": [
        "google_drive_url = \"https://docs.google.com/spreadsheets/d/10QIbM1dUJpi6RRPMmQb2F_URgg-dHkFi/edit?usp=sharing&ouid=117218510125754224635&rtpof=true&sd=true\"\n",
        "raw_url = 'https://drive.google.com/uc?id=' + google_drive_url.split('/')[-2]\n",
        "\n"
      ],
      "metadata": {
        "id": "jKB5ZkWU3nv2"
      },
      "execution_count": null,
      "outputs": []
    },
    {
      "cell_type": "code",
      "source": [
        "\n",
        "\n"
      ],
      "metadata": {
        "id": "sQq5zBoI3sbr"
      },
      "execution_count": null,
      "outputs": []
    },
    {
      "cell_type": "code",
      "source": [
        "data = pd.read_excel(raw_url, sheet_name=None)\n",
        "movies_df = data['Movies']\n",
        "actors_df = data['Actors']\n",
        "movies_df['Actors'] = movies_df['Actors'].str.split(', ')\n",
        "merged_df = pd.merge(movies_df, actors_df, how='inner', left_on='MovieID', right_on='ActorID')\n",
        "\n",
        "movie_actors = merged_df.groupby('Title')['ActorName'].apply(list).reset_index()\n"
      ],
      "metadata": {
        "id": "ySLJXuq23woE"
      },
      "execution_count": null,
      "outputs": []
    },
    {
      "cell_type": "code",
      "source": [
        "genres_data = {\n",
        "    'GenreID': [0, 1, 2, 3, 4, 5,6, 7, 8],\n",
        "    'GenreName': ['Drama', 'Children and Family', 'Action', 'Romance', 'Comedy', 'Musical', 'Horror', 'Science Fiction'],\n",
        "}\n",
        "\n",
        "\n",
        "# Create a dictionary to map genre names to GenreID\n",
        "genre_mapping = dict(zip(genres['GenreName'], genres['GenreID']))\n"
      ],
      "metadata": {
        "id": "ICUEzLMa3zSi",
        "colab": {
          "base_uri": "https://localhost:8080/",
          "height": 218
        },
        "outputId": "c6668e1d-2059-49df-ef95-6221377b07f8"
      },
      "execution_count": null,
      "outputs": [
        {
          "output_type": "error",
          "ename": "NameError",
          "evalue": "ignored",
          "traceback": [
            "\u001b[0;31m---------------------------------------------------------------------------\u001b[0m",
            "\u001b[0;31mNameError\u001b[0m                                 Traceback (most recent call last)",
            "\u001b[0;32m<ipython-input-5-31c27058157c>\u001b[0m in \u001b[0;36m<cell line: 8>\u001b[0;34m()\u001b[0m\n\u001b[1;32m      6\u001b[0m \u001b[0;34m\u001b[0m\u001b[0m\n\u001b[1;32m      7\u001b[0m \u001b[0;31m# Create a dictionary to map genre names to GenreID\u001b[0m\u001b[0;34m\u001b[0m\u001b[0;34m\u001b[0m\u001b[0m\n\u001b[0;32m----> 8\u001b[0;31m \u001b[0mgenre_mapping\u001b[0m \u001b[0;34m=\u001b[0m \u001b[0mdict\u001b[0m\u001b[0;34m(\u001b[0m\u001b[0mzip\u001b[0m\u001b[0;34m(\u001b[0m\u001b[0mgenres\u001b[0m\u001b[0;34m[\u001b[0m\u001b[0;34m'GenreName'\u001b[0m\u001b[0;34m]\u001b[0m\u001b[0;34m,\u001b[0m \u001b[0mgenres\u001b[0m\u001b[0;34m[\u001b[0m\u001b[0;34m'GenreID'\u001b[0m\u001b[0;34m]\u001b[0m\u001b[0;34m)\u001b[0m\u001b[0;34m)\u001b[0m\u001b[0;34m\u001b[0m\u001b[0;34m\u001b[0m\u001b[0m\n\u001b[0m",
            "\u001b[0;31mNameError\u001b[0m: name 'genres' is not defined"
          ]
        }
      ]
    },
    {
      "cell_type": "code",
      "metadata": {
        "id": "Vk6qJqxtmMZ0"
      },
      "source": [
        "movies_string = \"\"\n",
        "\n",
        "for i, movie in enumerate(data[\"Movies\"].to_dict(orient=\"records\")):\n",
        "    genre_id = genre_mapping.get(movie[\"Genre\"])\n",
        "\n",
        "\n",
        "\n",
        "    movies_string += f\"\"\"\n",
        "        AllMovies.Add(new Movie()\n",
        "        {{\n",
        "            MovieName = \"{movie[\"Title\"]}\",\n",
        "            RunTime = {movie[\"Run Time (minutes)\"]},\n",
        "            Tagline = \"{movie[\"Tagline\"]}\",\n",
        "            ReleaseYear = {movie[\"Release Year\"]},\n",
        "            Genre =  context.Genres.SingleOrDefault(g => g.GenreID == {genre_id}),\n",
        "            Description = \"{movie[\"Description\"]}\",\n",
        "            MPAA = MPAARating.{movie[\"MPAA Rating\"]},\n",
        "\n",
        "        }});\n",
        "\n",
        "    \"\"\"\n",
        "\n"
      ],
      "execution_count": null,
      "outputs": []
    },
    {
      "cell_type": "code",
      "source": [
        "print(movies_string)"
      ],
      "metadata": {
        "id": "KuXHSlDdMFwu"
      },
      "execution_count": null,
      "outputs": []
    },
    {
      "cell_type": "code",
      "source": [
        "data = pd.read_excel(raw_url, sheet_name=None)\n",
        "movies_df = data['Movies']\n",
        "actors_df = data['Actors']\n",
        "\n",
        "\n",
        "movie_actors = merged_df.groupby('Title')['ActorName'].apply(list).reset_index()\n",
        "\n",
        "# Assuming you have loaded the movies and actors dataframes\n",
        "\n",
        "# Create a linking table for the many-to-many relationship\n",
        "movie_actor_data = []\n",
        "\n",
        "for _, row in movies_df.iterrows():\n",
        "    movie_id = row['MovieID']\n",
        "    actor_names = row['Actors'].split(', ')\n",
        "\n",
        "    for actor_name in actor_names:\n",
        "        ActorActorID =  context.Actors.SingleOrDefault(g => g.ActorID == 4),\n",
        "        actor_id = actors_df[actors_df['ActorName'] == actor_name]['ActorID'].iloc[0]\n",
        "        movie_actor_data.append({'MovieID': movie_id, 'ActorID': actor_id})\n",
        "\n",
        "# Convert the list of dictionaries to a DataFrame\n",
        "movie_actor_df = pd.DataFrame(movie_actor_data)\n",
        "\n",
        "# Print the linking table\n",
        "print(movie_actor_df)\n",
        "\n",
        "# Now you can use this DataFrame to seed the many-to-many relationship in your C# code\n"
      ],
      "metadata": {
        "id": "uXwpk-2_vEml",
        "outputId": "6cd2d0cb-b1dc-4117-aaf3-2525e5efe53a",
        "colab": {
          "base_uri": "https://localhost:8080/",
          "height": 145
        }
      },
      "execution_count": null,
      "outputs": [
        {
          "output_type": "error",
          "ename": "SyntaxError",
          "evalue": "ignored",
          "traceback": [
            "\u001b[0;36m  File \u001b[0;32m\"<ipython-input-6-df5d6ee9b5ac>\"\u001b[0;36m, line \u001b[0;32m18\u001b[0m\n\u001b[0;31m    ActorActorID =  context.Actors.SingleOrDefault(g => g.ActorID == 4),\u001b[0m\n\u001b[0m                                                      ^\u001b[0m\n\u001b[0;31mSyntaxError\u001b[0m\u001b[0;31m:\u001b[0m invalid syntax\n"
          ]
        }
      ]
    },
    {
      "cell_type": "code",
      "source": [
        "file = open(\"SeedMovies\", \"w\")\n",
        "file.write(movies_string)\n",
        "file.close()"
      ],
      "metadata": {
        "id": "PwuzZUW69cKH"
      },
      "execution_count": null,
      "outputs": []
    }
  ]
}