{
  "nbformat": 4,
  "nbformat_minor": 0,
  "metadata": {
    "colab": {
      "provenance": [],
      "collapsed_sections": [
        "NEbrPUOmUq8K",
        "KdvOhJfyVLQU",
        "hahm8YSqcq5F",
        "YmW3cON4csic",
        "h6GJiGGwV5PA"
      ],
      "include_colab_link": true
    },
    "kernelspec": {
      "name": "python3",
      "display_name": "Python 3"
    },
    "language_info": {
      "name": "python"
    }
  },
  "cells": [
    {
      "cell_type": "markdown",
      "metadata": {
        "id": "view-in-github",
        "colab_type": "text"
      },
      "source": [
        "<a href=\"https://colab.research.google.com/github/danan987/PythonSeeding/blob/main/SeedFileTutorial_iPythonNB.ipynb\" target=\"_parent\"><img src=\"https://colab.research.google.com/assets/colab-badge.svg\" alt=\"Open In Colab\"/></a>"
      ]
    },
    {
      "cell_type": "markdown",
      "metadata": {
        "id": "NEbrPUOmUq8K"
      },
      "source": [
        "## Install Necessary Python Libraries\n",
        " - Only needs to be done once per machine"
      ]
    },
    {
      "cell_type": "code",
      "metadata": {
        "id": "Qzlhz89OUrIv",
        "colab": {
          "base_uri": "https://localhost:8080/"
        },
        "outputId": "6b701ae9-d0f5-4df5-9dfb-fc2b837ac63d"
      },
      "source": [
        "# Installs Python's pandas library, used for structuring data. If running as a .py file instead of a .ipynb, run \"pip install pandas\" in command prompt (Windows) or terminal (MacOS)\n",
        "!pip install pandas"
      ],
      "execution_count": 1,
      "outputs": [
        {
          "output_type": "stream",
          "name": "stdout",
          "text": [
            "Requirement already satisfied: pandas in /usr/local/lib/python3.10/dist-packages (1.5.3)\n",
            "Requirement already satisfied: python-dateutil>=2.8.1 in /usr/local/lib/python3.10/dist-packages (from pandas) (2.8.2)\n",
            "Requirement already satisfied: pytz>=2020.1 in /usr/local/lib/python3.10/dist-packages (from pandas) (2023.3.post1)\n",
            "Requirement already satisfied: numpy>=1.21.0 in /usr/local/lib/python3.10/dist-packages (from pandas) (1.23.5)\n",
            "Requirement already satisfied: six>=1.5 in /usr/local/lib/python3.10/dist-packages (from python-dateutil>=2.8.1->pandas) (1.16.0)\n"
          ]
        }
      ]
    },
    {
      "cell_type": "markdown",
      "metadata": {
        "id": "KdvOhJfyVLQU"
      },
      "source": [
        "## Import Necessary Libraries"
      ]
    },
    {
      "cell_type": "code",
      "metadata": {
        "id": "n5uUmruUVhKT"
      },
      "source": [
        "import pandas as pd"
      ],
      "execution_count": 16,
      "outputs": []
    },
    {
      "cell_type": "markdown",
      "metadata": {
        "id": "1DYQobtWVn2E"
      },
      "source": [
        "## Tools we will use to make the process much easier\n",
        "\n"
      ]
    },
    {
      "cell_type": "markdown",
      "metadata": {
        "id": "hahm8YSqcq5F"
      },
      "source": [
        "### F strings\n",
        "- Can be used with doc strings\n",
        "- If you want to print brackets rather than using brackets to insert variables, type the bracket in the string twice"
      ]
    },
    {
      "cell_type": "code",
      "metadata": {
        "colab": {
          "base_uri": "https://localhost:8080/"
        },
        "id": "8MVcSSKqcyMT",
        "outputId": "9f6c248c-33ee-41d4-a5a8-04432613ed65"
      },
      "source": [
        "name = \"Derek\"\n",
        "money = 40\n",
        "\n",
        "print(f\"Hello, my name is {name} and I have ${money:.2f}\")"
      ],
      "execution_count": 2,
      "outputs": [
        {
          "output_type": "stream",
          "name": "stdout",
          "text": [
            "Hello, my name is Derek and I have $40.00\n"
          ]
        }
      ]
    },
    {
      "cell_type": "code",
      "metadata": {
        "colab": {
          "base_uri": "https://localhost:8080/"
        },
        "id": "lKVkhhdTdIOp",
        "outputId": "ef368d4d-2aaf-44d8-e65d-9e314bf578d5"
      },
      "source": [
        "# Printing curly brackets inside of f-strings\n",
        "# You need to double-up any brackets that you aren't using to mark variables\n",
        "print(f\"{{ }}\")\n"
      ],
      "execution_count": 3,
      "outputs": [
        {
          "output_type": "stream",
          "name": "stdout",
          "text": [
            "{ }\n"
          ]
        }
      ]
    },
    {
      "cell_type": "markdown",
      "metadata": {
        "id": "YmW3cON4csic"
      },
      "source": [
        "### Doc strings\n",
        "- Can be used with F strings\n",
        "- Allow for multiple-line strings with automatic spacing added in"
      ]
    },
    {
      "cell_type": "code",
      "metadata": {
        "colab": {
          "base_uri": "https://localhost:8080/"
        },
        "id": "bl8tY5m8cvin",
        "outputId": "2ebafe8b-3922-4d9a-8977-a7d282601e68"
      },
      "source": [
        "print('''\n",
        "Hello\n",
        "\n",
        "\n",
        "my name is Derek\n",
        "\n",
        "\n",
        "       WOWWWW!\n",
        "''')"
      ],
      "execution_count": 4,
      "outputs": [
        {
          "output_type": "stream",
          "name": "stdout",
          "text": [
            "\n",
            "Hello\n",
            "\n",
            "\n",
            "my name is Derek\n",
            "\n",
            "\n",
            "       WOWWWW!\n",
            "\n"
          ]
        }
      ]
    },
    {
      "cell_type": "markdown",
      "metadata": {
        "id": "tGs2rFFsdsVM"
      },
      "source": [
        "### String addition assignment operator"
      ]
    },
    {
      "cell_type": "code",
      "metadata": {
        "id": "G5_djhbGdyTj"
      },
      "source": [
        "string = \"Hello \""
      ],
      "execution_count": 5,
      "outputs": []
    },
    {
      "cell_type": "code",
      "metadata": {
        "id": "MLk4_I6RdvOJ"
      },
      "source": [
        "string += \"Hello2 \""
      ],
      "execution_count": 6,
      "outputs": []
    },
    {
      "cell_type": "code",
      "metadata": {
        "id": "eDrXiQMcd2RJ"
      },
      "source": [
        "string += \"Hello3 \""
      ],
      "execution_count": 7,
      "outputs": []
    },
    {
      "cell_type": "code",
      "metadata": {
        "id": "gWtv76_Yd46c",
        "colab": {
          "base_uri": "https://localhost:8080/"
        },
        "outputId": "72d9c418-9156-464c-dbd0-a203de1fd550"
      },
      "source": [
        "print(string)"
      ],
      "execution_count": 8,
      "outputs": [
        {
          "output_type": "stream",
          "name": "stdout",
          "text": [
            "Hello Hello2 Hello3 \n"
          ]
        }
      ]
    },
    {
      "cell_type": "markdown",
      "metadata": {
        "id": "XB8chj46eBJW"
      },
      "source": [
        "### All tools combined"
      ]
    },
    {
      "cell_type": "code",
      "metadata": {
        "id": "fxXqvFxTeDyy",
        "colab": {
          "base_uri": "https://localhost:8080/"
        },
        "outputId": "378d5d54-f912-4bc7-bcf9-959abcae0082"
      },
      "source": [
        "prices = [50,45,30,20,15,20,75,35,85]\n",
        "\n",
        "my_string = \"\"\n",
        "\n",
        "for i in range(len(prices)):\n",
        "  my_string +=f\"\"\"\n",
        "Price number {i}:\n",
        "     ${prices[i]:.2f}\n",
        "\n",
        "\"\"\"\n",
        "\n",
        "print(my_string)"
      ],
      "execution_count": 11,
      "outputs": [
        {
          "output_type": "stream",
          "name": "stdout",
          "text": [
            "\n",
            "Price number 0:\n",
            "     $50.00\n",
            "\n",
            "\n",
            "Price number 1:\n",
            "     $45.00\n",
            "\n",
            "\n",
            "Price number 2:\n",
            "     $30.00\n",
            "\n",
            "\n",
            "Price number 3:\n",
            "     $20.00\n",
            "\n",
            "\n",
            "Price number 4:\n",
            "     $15.00\n",
            "\n",
            "\n",
            "Price number 5:\n",
            "     $20.00\n",
            "\n",
            "\n",
            "Price number 6:\n",
            "     $75.00\n",
            "\n",
            "\n",
            "Price number 7:\n",
            "     $35.00\n",
            "\n",
            "\n",
            "Price number 8:\n",
            "     $85.00\n",
            "\n",
            "\n"
          ]
        }
      ]
    },
    {
      "cell_type": "markdown",
      "metadata": {
        "id": "pVX1dBKtfO8h"
      },
      "source": [
        "# Bevo's Tunes Demo (Music Store)"
      ]
    },
    {
      "cell_type": "markdown",
      "metadata": {
        "id": "bjgZyRcwTlTW"
      },
      "source": [
        "Model Diagram:"
      ]
    },
    {
      "cell_type": "markdown",
      "metadata": {
        "id": "EHMlGmSZTxKm"
      },
      "source": [
        "Link to Diagram: [Model Diagram](https://drive.google.com/file/d/11nuGf8YaGvQsKWPYelJHRmXUHKU2_sap/view?usp=sharing)"
      ]
    },
    {
      "cell_type": "markdown",
      "metadata": {
        "id": "h6GJiGGwV5PA"
      },
      "source": [
        "## Bring in the data\n",
        "\n",
        "- For this example we will use data from last year's project, Bevo's Tunes, an online music store"
      ]
    },
    {
      "cell_type": "code",
      "metadata": {
        "id": "TYiPpZYiXRRd"
      },
      "source": [
        "# Sets the raw url variable to a google drive link\n",
        "google_drive_url = \"https://docs.google.com/spreadsheets/d/1bsS-kbqnXTzT1Lue7DhbhPZjyQLUK79C/edit?usp=sharing&ouid=103600383119382934878&rtpof=true&sd=true\"\n",
        "# Changes the google drive URL to\n",
        "raw_url = 'https://drive.google.com/uc?id=' + google_drive_url.split('/')[-2]\n",
        "\n",
        "# You can also use github repositories files as the URL, as long as the repository is public and you are on the raw file (look for a button that says \"raw\"). An example csv file link is provided\n",
        "#raw_url = 'https://raw.githubusercontent.com/curran/data/gh-pages/superstoreSales/superstoreSales.csv'\n",
        "\n",
        "\n",
        "# If you run the file locally on your computer or upload the data to your session storage, you can just use the name of the file\n",
        "# raw_url = 'SeedingDataV2.xlsx'"
      ],
      "execution_count": 13,
      "outputs": []
    },
    {
      "cell_type": "code",
      "metadata": {
        "id": "Dhwk6d9vZhf-"
      },
      "source": [
        "# Declare the sheet names that you are wanting to pull data from\n",
        "sheet_names = [\"Customers\",\n",
        "               \"Employees\",\n",
        "               \"Songs\",\n",
        "               \"Albums\",\n",
        "               \"Artists\",\n",
        "               \"Genres\",\n",
        "               \"Song Reviews\",\n",
        "               \"Album Reviews\",\n",
        "               \"Artist Reviews\",\n",
        "              ]"
      ],
      "execution_count": 14,
      "outputs": []
    },
    {
      "cell_type": "code",
      "metadata": {
        "id": "MX53vh84Zpp-"
      },
      "source": [
        "# Actually read the data from the URL, creates a dictionary of pandas DataFrame objects\n",
        "# DataFrames are a pre-made structure for us to easily access our data from\n",
        "data = pd.read_excel(raw_url, sheet_name = sheet_names)"
      ],
      "execution_count": 17,
      "outputs": []
    },
    {
      "cell_type": "code",
      "metadata": {
        "id": "xZDAcOXJZ7BB",
        "colab": {
          "base_uri": "https://localhost:8080/",
          "height": 1000
        },
        "outputId": "1e70ac3f-06d9-4101-dce9-54eb64a70da0"
      },
      "source": [
        "# Check to see that the data read correctly\n",
        "data[\"Customers\"]"
      ],
      "execution_count": 20,
      "outputs": [
        {
          "output_type": "execute_result",
          "data": {
            "text/plain": [
              "                   EmailAddress      Password    LastName    FirstName   MI  \\\n",
              "0         cbaker@freezing.co.uk    hellothere       Baker  Christopher    L   \n",
              "1                  mb@puppy.com        555533    Bradicus     Michelle    Q   \n",
              "2                  fd@puppy.com        666645    Broccoli       Franco    V   \n",
              "3               wendy@puppy.com        Kansas     Charile        Wendy    L   \n",
              "4             limchou@puppy.com      Rockwall        Chou          Lim    Q   \n",
              "5          444444.Dave@aool.com        444444        Dave         Shan    D   \n",
              "6              louann@puppy.com     longhorns      Feeley      Lou Ann    K   \n",
              "7            tfreeley@puppy.com       puppies     Freeley         Tesa    P   \n",
              "8                mgar@puppy.com        horses      Garcia     Margaret    L   \n",
              "9               chaley@thug.com        mycats      Harley      Charles    E   \n",
              "10               jeff@puppy.com       jeffery       Stark      Jeffrey    T   \n",
              "11          wjhearniii@umch.edu      posicles       Hearn         John    B   \n",
              "12            hicks43@puppy.com        guac45       Hicks         Mark    J   \n",
              "13  bradsingram@mall.utexas.edu        father      Ingram         Brad    S   \n",
              "14       father.Ingram@aool.com        555897      Jacobs         Todd    L   \n",
              "15           victoria@puppy.com     something    Lawrence     Victoria    M   \n",
              "16           lineback@flush.net     treelover    Lineback         Brad    W   \n",
              "17          elowe@netscrape.net       headear        Lowe         Evan    S   \n",
              "18         luce_chuck@puppy.com  gooseyloosey        Luce        Chuck    B   \n",
              "19      mackcloud@pimpdaddy.com      rainyday     MacLeod     Jennifer    D   \n",
              "20                liz@puppy.com       ember22     Markham    Elizabeth    P   \n",
              "21          mclarence@puppy.com    lamemartin      Martin     Clarence    A   \n",
              "22   lamemartin.Martin@aool.com       gregory    Martinez      Gregory    R   \n",
              "23          cmiller@mapster.com       mucky44      Miller      Charles    R   \n",
              "24       nelson.Kelly@puppy.com        Tree34      Nelson        Kelly    T   \n",
              "25              jojoe@puppy.com      jvb485bg      Nguyen          Joe    C   \n",
              "26          orielly@foxnets.com     Bobbygirl    O'Reilly         Bill    T   \n",
              "27                 or@puppy.com   radioactive   Radkovich         Anka    L   \n",
              "28     megrhodes@freezing.co.uk        gopigs      Rhodes        Megan    C   \n",
              "29           erynrice@puppy.com       iloveme        Rice         Eryn    M   \n",
              "30           jorge@hootmail.com        565656   Rodriguez        Jorge  NaN   \n",
              "31                   ra@aoo.com       treeman      Rogers        Allen    B   \n",
              "32           o_st-jean@home.com        55htrq  Saint-Jean      Olivier    M   \n",
              "33               ss34@puppy.com        leaves    Saunders        Sarah    J   \n",
              "34          willsheff@email.com       borbj44      Sewell      William    T   \n",
              "35            sheff44@puppy.com      ldiul485   Sheffield       Martin    J   \n",
              "36       johnsmith187@puppy.com       kribv75       Smith         John    A   \n",
              "37            dustroud@mail.com     klavjkb48      Stroud       Dustin    P   \n",
              "38        eric_stuart@puppy.com        vkb451      Stuart         Eric    D   \n",
              "39      peterstump@hootmail.com        kdsiu4       Stump        Peter    L   \n",
              "40             tanner@puppy.com      klrfbj45      Tanner       Jeremy    S   \n",
              "41         taylordjay@puppy.com   lraggrhb854      Taylor      Allison    R   \n",
              "42  lraggrhb854.Taylor@aool.com      alsuib95      Taylor       Rachel    K   \n",
              "43       tee_frank@hootmail.com        kd1734         Tee        Frank    J   \n",
              "44             tuck33@puppy.com       kjdb983      Tucker        Clent    J   \n",
              "45           avelasco@puppy.com        odrb02     Velasco        Allen    G   \n",
              "46            westj@pioneer.net       kndl847        West         Jake    T   \n",
              "47         louielouie@puppy.com        lb2394   Winthorpe        Louis    L   \n",
              "48            rwood@voyager.net       drai494        Wood       Reagan    B   \n",
              "\n",
              "                    Address  ZipCode       Phone  \n",
              "0   1245 Lake America Blvd.    78733  5125595133  \n",
              "1      1300 Small Pine Lane    78261  2102702860  \n",
              "2              62 Cookie Rd    77019  8175683686  \n",
              "3         202 Bellmoth Hall    78713  5125967209  \n",
              "4         1600 Barbara Lane    78266  2107748586  \n",
              "5          234 Puppy Circle    75208  2142667242  \n",
              "6        700 S 9th Street W    77010  8172580736  \n",
              "7        4334 Meanview Ave.    77009  8173279674  \n",
              "8             594 Puppyview    77003  8176617531  \n",
              "9           One Ranger Pkwy    75261  2148499570  \n",
              "10             337 40th St.    78705  5127002600  \n",
              "11         4445 South First    75237  2148989608  \n",
              "12  32 NE Mark Ln., Ste 910    78239  2105812952  \n",
              "13        6548 La Chess St.    78736  5124702808  \n",
              "14            4564 Palm St.    78731  5124677352  \n",
              "15       6639 Butterfly Ln.    78761  5129481386  \n",
              "16       1300 Pirateland St    78293  2102473963  \n",
              "17     3201 Pineapple Drive    78279  2105368614  \n",
              "18       2345 Silent Clouds    78268  2107007535  \n",
              "19      2504 Far East Blvd.    78731  5124772125  \n",
              "20       7861 Chevy Mace Rd    78732  5124603832  \n",
              "21            87 Alcedo St.    77045  8174979188  \n",
              "22          8295 Moon Blvd.    77030  8178770705  \n",
              "23            8962 Side St.    77031  8177482602  \n",
              "24         2601 Green River    78703  5122950953  \n",
              "25          1249 4th NW St.    75238  2143149884  \n",
              "26        8800 Gringo Drive    78260  2103474912  \n",
              "27              1300 Freaky    75260  2142369553  \n",
              "28      4587 Rightfield Rd.    78707  5123768733  \n",
              "29           3405 Rio Small    78705  5123900644  \n",
              "30       6788 Cotten Street    77057  8178928361  \n",
              "31         4965 Rabbit Hill    78732  5128776930  \n",
              "32             255 Slap Dr.    78292  2104169665  \n",
              "33               332 Fish C    78705  5123521797  \n",
              "34            2365 34st St.    78709  5124534071  \n",
              "35              3886 Road A    78705  5125503154  \n",
              "36       23 Known Forge Dr.    78280  2108345875  \n",
              "37        1212 Henrietta Rd    75221  2142370654  \n",
              "38            5576 Big Ring    78746  5128202322  \n",
              "39       1300 Kellen Square    77018  8174584890  \n",
              "40           4347 Palmstead    77044  8174614916  \n",
              "41           467 Nueces St.    78705  5124772439  \n",
              "42        345 Shortview Dr.    78705  5124536618  \n",
              "43             5590 Big Dr.    77004  8178789530  \n",
              "44            3132 Main St.    75315  2148495141  \n",
              "45               634 W. 4th    75207  2144009625  \n",
              "46                  RR 3244    75323  2148499231  \n",
              "47          2500 Madre Blvd    78746  2145674085  \n",
              "48         447 Westlake Dr.    78746  5124569229  "
            ],
            "text/html": [
              "\n",
              "  <div id=\"df-559d5688-a068-4bcc-a09f-18ba53b2c3be\" class=\"colab-df-container\">\n",
              "    <div>\n",
              "<style scoped>\n",
              "    .dataframe tbody tr th:only-of-type {\n",
              "        vertical-align: middle;\n",
              "    }\n",
              "\n",
              "    .dataframe tbody tr th {\n",
              "        vertical-align: top;\n",
              "    }\n",
              "\n",
              "    .dataframe thead th {\n",
              "        text-align: right;\n",
              "    }\n",
              "</style>\n",
              "<table border=\"1\" class=\"dataframe\">\n",
              "  <thead>\n",
              "    <tr style=\"text-align: right;\">\n",
              "      <th></th>\n",
              "      <th>EmailAddress</th>\n",
              "      <th>Password</th>\n",
              "      <th>LastName</th>\n",
              "      <th>FirstName</th>\n",
              "      <th>MI</th>\n",
              "      <th>Address</th>\n",
              "      <th>ZipCode</th>\n",
              "      <th>Phone</th>\n",
              "    </tr>\n",
              "  </thead>\n",
              "  <tbody>\n",
              "    <tr>\n",
              "      <th>0</th>\n",
              "      <td>cbaker@freezing.co.uk</td>\n",
              "      <td>hellothere</td>\n",
              "      <td>Baker</td>\n",
              "      <td>Christopher</td>\n",
              "      <td>L</td>\n",
              "      <td>1245 Lake America Blvd.</td>\n",
              "      <td>78733</td>\n",
              "      <td>5125595133</td>\n",
              "    </tr>\n",
              "    <tr>\n",
              "      <th>1</th>\n",
              "      <td>mb@puppy.com</td>\n",
              "      <td>555533</td>\n",
              "      <td>Bradicus</td>\n",
              "      <td>Michelle</td>\n",
              "      <td>Q</td>\n",
              "      <td>1300 Small Pine Lane</td>\n",
              "      <td>78261</td>\n",
              "      <td>2102702860</td>\n",
              "    </tr>\n",
              "    <tr>\n",
              "      <th>2</th>\n",
              "      <td>fd@puppy.com</td>\n",
              "      <td>666645</td>\n",
              "      <td>Broccoli</td>\n",
              "      <td>Franco</td>\n",
              "      <td>V</td>\n",
              "      <td>62 Cookie Rd</td>\n",
              "      <td>77019</td>\n",
              "      <td>8175683686</td>\n",
              "    </tr>\n",
              "    <tr>\n",
              "      <th>3</th>\n",
              "      <td>wendy@puppy.com</td>\n",
              "      <td>Kansas</td>\n",
              "      <td>Charile</td>\n",
              "      <td>Wendy</td>\n",
              "      <td>L</td>\n",
              "      <td>202 Bellmoth Hall</td>\n",
              "      <td>78713</td>\n",
              "      <td>5125967209</td>\n",
              "    </tr>\n",
              "    <tr>\n",
              "      <th>4</th>\n",
              "      <td>limchou@puppy.com</td>\n",
              "      <td>Rockwall</td>\n",
              "      <td>Chou</td>\n",
              "      <td>Lim</td>\n",
              "      <td>Q</td>\n",
              "      <td>1600 Barbara Lane</td>\n",
              "      <td>78266</td>\n",
              "      <td>2107748586</td>\n",
              "    </tr>\n",
              "    <tr>\n",
              "      <th>5</th>\n",
              "      <td>444444.Dave@aool.com</td>\n",
              "      <td>444444</td>\n",
              "      <td>Dave</td>\n",
              "      <td>Shan</td>\n",
              "      <td>D</td>\n",
              "      <td>234 Puppy Circle</td>\n",
              "      <td>75208</td>\n",
              "      <td>2142667242</td>\n",
              "    </tr>\n",
              "    <tr>\n",
              "      <th>6</th>\n",
              "      <td>louann@puppy.com</td>\n",
              "      <td>longhorns</td>\n",
              "      <td>Feeley</td>\n",
              "      <td>Lou Ann</td>\n",
              "      <td>K</td>\n",
              "      <td>700 S 9th Street W</td>\n",
              "      <td>77010</td>\n",
              "      <td>8172580736</td>\n",
              "    </tr>\n",
              "    <tr>\n",
              "      <th>7</th>\n",
              "      <td>tfreeley@puppy.com</td>\n",
              "      <td>puppies</td>\n",
              "      <td>Freeley</td>\n",
              "      <td>Tesa</td>\n",
              "      <td>P</td>\n",
              "      <td>4334 Meanview Ave.</td>\n",
              "      <td>77009</td>\n",
              "      <td>8173279674</td>\n",
              "    </tr>\n",
              "    <tr>\n",
              "      <th>8</th>\n",
              "      <td>mgar@puppy.com</td>\n",
              "      <td>horses</td>\n",
              "      <td>Garcia</td>\n",
              "      <td>Margaret</td>\n",
              "      <td>L</td>\n",
              "      <td>594 Puppyview</td>\n",
              "      <td>77003</td>\n",
              "      <td>8176617531</td>\n",
              "    </tr>\n",
              "    <tr>\n",
              "      <th>9</th>\n",
              "      <td>chaley@thug.com</td>\n",
              "      <td>mycats</td>\n",
              "      <td>Harley</td>\n",
              "      <td>Charles</td>\n",
              "      <td>E</td>\n",
              "      <td>One Ranger Pkwy</td>\n",
              "      <td>75261</td>\n",
              "      <td>2148499570</td>\n",
              "    </tr>\n",
              "    <tr>\n",
              "      <th>10</th>\n",
              "      <td>jeff@puppy.com</td>\n",
              "      <td>jeffery</td>\n",
              "      <td>Stark</td>\n",
              "      <td>Jeffrey</td>\n",
              "      <td>T</td>\n",
              "      <td>337 40th St.</td>\n",
              "      <td>78705</td>\n",
              "      <td>5127002600</td>\n",
              "    </tr>\n",
              "    <tr>\n",
              "      <th>11</th>\n",
              "      <td>wjhearniii@umch.edu</td>\n",
              "      <td>posicles</td>\n",
              "      <td>Hearn</td>\n",
              "      <td>John</td>\n",
              "      <td>B</td>\n",
              "      <td>4445 South First</td>\n",
              "      <td>75237</td>\n",
              "      <td>2148989608</td>\n",
              "    </tr>\n",
              "    <tr>\n",
              "      <th>12</th>\n",
              "      <td>hicks43@puppy.com</td>\n",
              "      <td>guac45</td>\n",
              "      <td>Hicks</td>\n",
              "      <td>Mark</td>\n",
              "      <td>J</td>\n",
              "      <td>32 NE Mark Ln., Ste 910</td>\n",
              "      <td>78239</td>\n",
              "      <td>2105812952</td>\n",
              "    </tr>\n",
              "    <tr>\n",
              "      <th>13</th>\n",
              "      <td>bradsingram@mall.utexas.edu</td>\n",
              "      <td>father</td>\n",
              "      <td>Ingram</td>\n",
              "      <td>Brad</td>\n",
              "      <td>S</td>\n",
              "      <td>6548 La Chess St.</td>\n",
              "      <td>78736</td>\n",
              "      <td>5124702808</td>\n",
              "    </tr>\n",
              "    <tr>\n",
              "      <th>14</th>\n",
              "      <td>father.Ingram@aool.com</td>\n",
              "      <td>555897</td>\n",
              "      <td>Jacobs</td>\n",
              "      <td>Todd</td>\n",
              "      <td>L</td>\n",
              "      <td>4564 Palm St.</td>\n",
              "      <td>78731</td>\n",
              "      <td>5124677352</td>\n",
              "    </tr>\n",
              "    <tr>\n",
              "      <th>15</th>\n",
              "      <td>victoria@puppy.com</td>\n",
              "      <td>something</td>\n",
              "      <td>Lawrence</td>\n",
              "      <td>Victoria</td>\n",
              "      <td>M</td>\n",
              "      <td>6639 Butterfly Ln.</td>\n",
              "      <td>78761</td>\n",
              "      <td>5129481386</td>\n",
              "    </tr>\n",
              "    <tr>\n",
              "      <th>16</th>\n",
              "      <td>lineback@flush.net</td>\n",
              "      <td>treelover</td>\n",
              "      <td>Lineback</td>\n",
              "      <td>Brad</td>\n",
              "      <td>W</td>\n",
              "      <td>1300 Pirateland St</td>\n",
              "      <td>78293</td>\n",
              "      <td>2102473963</td>\n",
              "    </tr>\n",
              "    <tr>\n",
              "      <th>17</th>\n",
              "      <td>elowe@netscrape.net</td>\n",
              "      <td>headear</td>\n",
              "      <td>Lowe</td>\n",
              "      <td>Evan</td>\n",
              "      <td>S</td>\n",
              "      <td>3201 Pineapple Drive</td>\n",
              "      <td>78279</td>\n",
              "      <td>2105368614</td>\n",
              "    </tr>\n",
              "    <tr>\n",
              "      <th>18</th>\n",
              "      <td>luce_chuck@puppy.com</td>\n",
              "      <td>gooseyloosey</td>\n",
              "      <td>Luce</td>\n",
              "      <td>Chuck</td>\n",
              "      <td>B</td>\n",
              "      <td>2345 Silent Clouds</td>\n",
              "      <td>78268</td>\n",
              "      <td>2107007535</td>\n",
              "    </tr>\n",
              "    <tr>\n",
              "      <th>19</th>\n",
              "      <td>mackcloud@pimpdaddy.com</td>\n",
              "      <td>rainyday</td>\n",
              "      <td>MacLeod</td>\n",
              "      <td>Jennifer</td>\n",
              "      <td>D</td>\n",
              "      <td>2504 Far East Blvd.</td>\n",
              "      <td>78731</td>\n",
              "      <td>5124772125</td>\n",
              "    </tr>\n",
              "    <tr>\n",
              "      <th>20</th>\n",
              "      <td>liz@puppy.com</td>\n",
              "      <td>ember22</td>\n",
              "      <td>Markham</td>\n",
              "      <td>Elizabeth</td>\n",
              "      <td>P</td>\n",
              "      <td>7861 Chevy Mace Rd</td>\n",
              "      <td>78732</td>\n",
              "      <td>5124603832</td>\n",
              "    </tr>\n",
              "    <tr>\n",
              "      <th>21</th>\n",
              "      <td>mclarence@puppy.com</td>\n",
              "      <td>lamemartin</td>\n",
              "      <td>Martin</td>\n",
              "      <td>Clarence</td>\n",
              "      <td>A</td>\n",
              "      <td>87 Alcedo St.</td>\n",
              "      <td>77045</td>\n",
              "      <td>8174979188</td>\n",
              "    </tr>\n",
              "    <tr>\n",
              "      <th>22</th>\n",
              "      <td>lamemartin.Martin@aool.com</td>\n",
              "      <td>gregory</td>\n",
              "      <td>Martinez</td>\n",
              "      <td>Gregory</td>\n",
              "      <td>R</td>\n",
              "      <td>8295 Moon Blvd.</td>\n",
              "      <td>77030</td>\n",
              "      <td>8178770705</td>\n",
              "    </tr>\n",
              "    <tr>\n",
              "      <th>23</th>\n",
              "      <td>cmiller@mapster.com</td>\n",
              "      <td>mucky44</td>\n",
              "      <td>Miller</td>\n",
              "      <td>Charles</td>\n",
              "      <td>R</td>\n",
              "      <td>8962 Side St.</td>\n",
              "      <td>77031</td>\n",
              "      <td>8177482602</td>\n",
              "    </tr>\n",
              "    <tr>\n",
              "      <th>24</th>\n",
              "      <td>nelson.Kelly@puppy.com</td>\n",
              "      <td>Tree34</td>\n",
              "      <td>Nelson</td>\n",
              "      <td>Kelly</td>\n",
              "      <td>T</td>\n",
              "      <td>2601 Green River</td>\n",
              "      <td>78703</td>\n",
              "      <td>5122950953</td>\n",
              "    </tr>\n",
              "    <tr>\n",
              "      <th>25</th>\n",
              "      <td>jojoe@puppy.com</td>\n",
              "      <td>jvb485bg</td>\n",
              "      <td>Nguyen</td>\n",
              "      <td>Joe</td>\n",
              "      <td>C</td>\n",
              "      <td>1249 4th NW St.</td>\n",
              "      <td>75238</td>\n",
              "      <td>2143149884</td>\n",
              "    </tr>\n",
              "    <tr>\n",
              "      <th>26</th>\n",
              "      <td>orielly@foxnets.com</td>\n",
              "      <td>Bobbygirl</td>\n",
              "      <td>O'Reilly</td>\n",
              "      <td>Bill</td>\n",
              "      <td>T</td>\n",
              "      <td>8800 Gringo Drive</td>\n",
              "      <td>78260</td>\n",
              "      <td>2103474912</td>\n",
              "    </tr>\n",
              "    <tr>\n",
              "      <th>27</th>\n",
              "      <td>or@puppy.com</td>\n",
              "      <td>radioactive</td>\n",
              "      <td>Radkovich</td>\n",
              "      <td>Anka</td>\n",
              "      <td>L</td>\n",
              "      <td>1300 Freaky</td>\n",
              "      <td>75260</td>\n",
              "      <td>2142369553</td>\n",
              "    </tr>\n",
              "    <tr>\n",
              "      <th>28</th>\n",
              "      <td>megrhodes@freezing.co.uk</td>\n",
              "      <td>gopigs</td>\n",
              "      <td>Rhodes</td>\n",
              "      <td>Megan</td>\n",
              "      <td>C</td>\n",
              "      <td>4587 Rightfield Rd.</td>\n",
              "      <td>78707</td>\n",
              "      <td>5123768733</td>\n",
              "    </tr>\n",
              "    <tr>\n",
              "      <th>29</th>\n",
              "      <td>erynrice@puppy.com</td>\n",
              "      <td>iloveme</td>\n",
              "      <td>Rice</td>\n",
              "      <td>Eryn</td>\n",
              "      <td>M</td>\n",
              "      <td>3405 Rio Small</td>\n",
              "      <td>78705</td>\n",
              "      <td>5123900644</td>\n",
              "    </tr>\n",
              "    <tr>\n",
              "      <th>30</th>\n",
              "      <td>jorge@hootmail.com</td>\n",
              "      <td>565656</td>\n",
              "      <td>Rodriguez</td>\n",
              "      <td>Jorge</td>\n",
              "      <td>NaN</td>\n",
              "      <td>6788 Cotten Street</td>\n",
              "      <td>77057</td>\n",
              "      <td>8178928361</td>\n",
              "    </tr>\n",
              "    <tr>\n",
              "      <th>31</th>\n",
              "      <td>ra@aoo.com</td>\n",
              "      <td>treeman</td>\n",
              "      <td>Rogers</td>\n",
              "      <td>Allen</td>\n",
              "      <td>B</td>\n",
              "      <td>4965 Rabbit Hill</td>\n",
              "      <td>78732</td>\n",
              "      <td>5128776930</td>\n",
              "    </tr>\n",
              "    <tr>\n",
              "      <th>32</th>\n",
              "      <td>o_st-jean@home.com</td>\n",
              "      <td>55htrq</td>\n",
              "      <td>Saint-Jean</td>\n",
              "      <td>Olivier</td>\n",
              "      <td>M</td>\n",
              "      <td>255 Slap Dr.</td>\n",
              "      <td>78292</td>\n",
              "      <td>2104169665</td>\n",
              "    </tr>\n",
              "    <tr>\n",
              "      <th>33</th>\n",
              "      <td>ss34@puppy.com</td>\n",
              "      <td>leaves</td>\n",
              "      <td>Saunders</td>\n",
              "      <td>Sarah</td>\n",
              "      <td>J</td>\n",
              "      <td>332 Fish C</td>\n",
              "      <td>78705</td>\n",
              "      <td>5123521797</td>\n",
              "    </tr>\n",
              "    <tr>\n",
              "      <th>34</th>\n",
              "      <td>willsheff@email.com</td>\n",
              "      <td>borbj44</td>\n",
              "      <td>Sewell</td>\n",
              "      <td>William</td>\n",
              "      <td>T</td>\n",
              "      <td>2365 34st St.</td>\n",
              "      <td>78709</td>\n",
              "      <td>5124534071</td>\n",
              "    </tr>\n",
              "    <tr>\n",
              "      <th>35</th>\n",
              "      <td>sheff44@puppy.com</td>\n",
              "      <td>ldiul485</td>\n",
              "      <td>Sheffield</td>\n",
              "      <td>Martin</td>\n",
              "      <td>J</td>\n",
              "      <td>3886 Road A</td>\n",
              "      <td>78705</td>\n",
              "      <td>5125503154</td>\n",
              "    </tr>\n",
              "    <tr>\n",
              "      <th>36</th>\n",
              "      <td>johnsmith187@puppy.com</td>\n",
              "      <td>kribv75</td>\n",
              "      <td>Smith</td>\n",
              "      <td>John</td>\n",
              "      <td>A</td>\n",
              "      <td>23 Known Forge Dr.</td>\n",
              "      <td>78280</td>\n",
              "      <td>2108345875</td>\n",
              "    </tr>\n",
              "    <tr>\n",
              "      <th>37</th>\n",
              "      <td>dustroud@mail.com</td>\n",
              "      <td>klavjkb48</td>\n",
              "      <td>Stroud</td>\n",
              "      <td>Dustin</td>\n",
              "      <td>P</td>\n",
              "      <td>1212 Henrietta Rd</td>\n",
              "      <td>75221</td>\n",
              "      <td>2142370654</td>\n",
              "    </tr>\n",
              "    <tr>\n",
              "      <th>38</th>\n",
              "      <td>eric_stuart@puppy.com</td>\n",
              "      <td>vkb451</td>\n",
              "      <td>Stuart</td>\n",
              "      <td>Eric</td>\n",
              "      <td>D</td>\n",
              "      <td>5576 Big Ring</td>\n",
              "      <td>78746</td>\n",
              "      <td>5128202322</td>\n",
              "    </tr>\n",
              "    <tr>\n",
              "      <th>39</th>\n",
              "      <td>peterstump@hootmail.com</td>\n",
              "      <td>kdsiu4</td>\n",
              "      <td>Stump</td>\n",
              "      <td>Peter</td>\n",
              "      <td>L</td>\n",
              "      <td>1300 Kellen Square</td>\n",
              "      <td>77018</td>\n",
              "      <td>8174584890</td>\n",
              "    </tr>\n",
              "    <tr>\n",
              "      <th>40</th>\n",
              "      <td>tanner@puppy.com</td>\n",
              "      <td>klrfbj45</td>\n",
              "      <td>Tanner</td>\n",
              "      <td>Jeremy</td>\n",
              "      <td>S</td>\n",
              "      <td>4347 Palmstead</td>\n",
              "      <td>77044</td>\n",
              "      <td>8174614916</td>\n",
              "    </tr>\n",
              "    <tr>\n",
              "      <th>41</th>\n",
              "      <td>taylordjay@puppy.com</td>\n",
              "      <td>lraggrhb854</td>\n",
              "      <td>Taylor</td>\n",
              "      <td>Allison</td>\n",
              "      <td>R</td>\n",
              "      <td>467 Nueces St.</td>\n",
              "      <td>78705</td>\n",
              "      <td>5124772439</td>\n",
              "    </tr>\n",
              "    <tr>\n",
              "      <th>42</th>\n",
              "      <td>lraggrhb854.Taylor@aool.com</td>\n",
              "      <td>alsuib95</td>\n",
              "      <td>Taylor</td>\n",
              "      <td>Rachel</td>\n",
              "      <td>K</td>\n",
              "      <td>345 Shortview Dr.</td>\n",
              "      <td>78705</td>\n",
              "      <td>5124536618</td>\n",
              "    </tr>\n",
              "    <tr>\n",
              "      <th>43</th>\n",
              "      <td>tee_frank@hootmail.com</td>\n",
              "      <td>kd1734</td>\n",
              "      <td>Tee</td>\n",
              "      <td>Frank</td>\n",
              "      <td>J</td>\n",
              "      <td>5590 Big Dr.</td>\n",
              "      <td>77004</td>\n",
              "      <td>8178789530</td>\n",
              "    </tr>\n",
              "    <tr>\n",
              "      <th>44</th>\n",
              "      <td>tuck33@puppy.com</td>\n",
              "      <td>kjdb983</td>\n",
              "      <td>Tucker</td>\n",
              "      <td>Clent</td>\n",
              "      <td>J</td>\n",
              "      <td>3132 Main St.</td>\n",
              "      <td>75315</td>\n",
              "      <td>2148495141</td>\n",
              "    </tr>\n",
              "    <tr>\n",
              "      <th>45</th>\n",
              "      <td>avelasco@puppy.com</td>\n",
              "      <td>odrb02</td>\n",
              "      <td>Velasco</td>\n",
              "      <td>Allen</td>\n",
              "      <td>G</td>\n",
              "      <td>634 W. 4th</td>\n",
              "      <td>75207</td>\n",
              "      <td>2144009625</td>\n",
              "    </tr>\n",
              "    <tr>\n",
              "      <th>46</th>\n",
              "      <td>westj@pioneer.net</td>\n",
              "      <td>kndl847</td>\n",
              "      <td>West</td>\n",
              "      <td>Jake</td>\n",
              "      <td>T</td>\n",
              "      <td>RR 3244</td>\n",
              "      <td>75323</td>\n",
              "      <td>2148499231</td>\n",
              "    </tr>\n",
              "    <tr>\n",
              "      <th>47</th>\n",
              "      <td>louielouie@puppy.com</td>\n",
              "      <td>lb2394</td>\n",
              "      <td>Winthorpe</td>\n",
              "      <td>Louis</td>\n",
              "      <td>L</td>\n",
              "      <td>2500 Madre Blvd</td>\n",
              "      <td>78746</td>\n",
              "      <td>2145674085</td>\n",
              "    </tr>\n",
              "    <tr>\n",
              "      <th>48</th>\n",
              "      <td>rwood@voyager.net</td>\n",
              "      <td>drai494</td>\n",
              "      <td>Wood</td>\n",
              "      <td>Reagan</td>\n",
              "      <td>B</td>\n",
              "      <td>447 Westlake Dr.</td>\n",
              "      <td>78746</td>\n",
              "      <td>5124569229</td>\n",
              "    </tr>\n",
              "  </tbody>\n",
              "</table>\n",
              "</div>\n",
              "    <div class=\"colab-df-buttons\">\n",
              "\n",
              "  <div class=\"colab-df-container\">\n",
              "    <button class=\"colab-df-convert\" onclick=\"convertToInteractive('df-559d5688-a068-4bcc-a09f-18ba53b2c3be')\"\n",
              "            title=\"Convert this dataframe to an interactive table.\"\n",
              "            style=\"display:none;\">\n",
              "\n",
              "  <svg xmlns=\"http://www.w3.org/2000/svg\" height=\"24px\" viewBox=\"0 -960 960 960\">\n",
              "    <path d=\"M120-120v-720h720v720H120Zm60-500h600v-160H180v160Zm220 220h160v-160H400v160Zm0 220h160v-160H400v160ZM180-400h160v-160H180v160Zm440 0h160v-160H620v160ZM180-180h160v-160H180v160Zm440 0h160v-160H620v160Z\"/>\n",
              "  </svg>\n",
              "    </button>\n",
              "\n",
              "  <style>\n",
              "    .colab-df-container {\n",
              "      display:flex;\n",
              "      gap: 12px;\n",
              "    }\n",
              "\n",
              "    .colab-df-convert {\n",
              "      background-color: #E8F0FE;\n",
              "      border: none;\n",
              "      border-radius: 50%;\n",
              "      cursor: pointer;\n",
              "      display: none;\n",
              "      fill: #1967D2;\n",
              "      height: 32px;\n",
              "      padding: 0 0 0 0;\n",
              "      width: 32px;\n",
              "    }\n",
              "\n",
              "    .colab-df-convert:hover {\n",
              "      background-color: #E2EBFA;\n",
              "      box-shadow: 0px 1px 2px rgba(60, 64, 67, 0.3), 0px 1px 3px 1px rgba(60, 64, 67, 0.15);\n",
              "      fill: #174EA6;\n",
              "    }\n",
              "\n",
              "    .colab-df-buttons div {\n",
              "      margin-bottom: 4px;\n",
              "    }\n",
              "\n",
              "    [theme=dark] .colab-df-convert {\n",
              "      background-color: #3B4455;\n",
              "      fill: #D2E3FC;\n",
              "    }\n",
              "\n",
              "    [theme=dark] .colab-df-convert:hover {\n",
              "      background-color: #434B5C;\n",
              "      box-shadow: 0px 1px 3px 1px rgba(0, 0, 0, 0.15);\n",
              "      filter: drop-shadow(0px 1px 2px rgba(0, 0, 0, 0.3));\n",
              "      fill: #FFFFFF;\n",
              "    }\n",
              "  </style>\n",
              "\n",
              "    <script>\n",
              "      const buttonEl =\n",
              "        document.querySelector('#df-559d5688-a068-4bcc-a09f-18ba53b2c3be button.colab-df-convert');\n",
              "      buttonEl.style.display =\n",
              "        google.colab.kernel.accessAllowed ? 'block' : 'none';\n",
              "\n",
              "      async function convertToInteractive(key) {\n",
              "        const element = document.querySelector('#df-559d5688-a068-4bcc-a09f-18ba53b2c3be');\n",
              "        const dataTable =\n",
              "          await google.colab.kernel.invokeFunction('convertToInteractive',\n",
              "                                                    [key], {});\n",
              "        if (!dataTable) return;\n",
              "\n",
              "        const docLinkHtml = 'Like what you see? Visit the ' +\n",
              "          '<a target=\"_blank\" href=https://colab.research.google.com/notebooks/data_table.ipynb>data table notebook</a>'\n",
              "          + ' to learn more about interactive tables.';\n",
              "        element.innerHTML = '';\n",
              "        dataTable['output_type'] = 'display_data';\n",
              "        await google.colab.output.renderOutput(dataTable, element);\n",
              "        const docLink = document.createElement('div');\n",
              "        docLink.innerHTML = docLinkHtml;\n",
              "        element.appendChild(docLink);\n",
              "      }\n",
              "    </script>\n",
              "  </div>\n",
              "\n",
              "\n",
              "<div id=\"df-5e45efa3-24eb-4282-b3b1-398c23465ad6\">\n",
              "  <button class=\"colab-df-quickchart\" onclick=\"quickchart('df-5e45efa3-24eb-4282-b3b1-398c23465ad6')\"\n",
              "            title=\"Suggest charts\"\n",
              "            style=\"display:none;\">\n",
              "\n",
              "<svg xmlns=\"http://www.w3.org/2000/svg\" height=\"24px\"viewBox=\"0 0 24 24\"\n",
              "     width=\"24px\">\n",
              "    <g>\n",
              "        <path d=\"M19 3H5c-1.1 0-2 .9-2 2v14c0 1.1.9 2 2 2h14c1.1 0 2-.9 2-2V5c0-1.1-.9-2-2-2zM9 17H7v-7h2v7zm4 0h-2V7h2v10zm4 0h-2v-4h2v4z\"/>\n",
              "    </g>\n",
              "</svg>\n",
              "  </button>\n",
              "\n",
              "<style>\n",
              "  .colab-df-quickchart {\n",
              "      --bg-color: #E8F0FE;\n",
              "      --fill-color: #1967D2;\n",
              "      --hover-bg-color: #E2EBFA;\n",
              "      --hover-fill-color: #174EA6;\n",
              "      --disabled-fill-color: #AAA;\n",
              "      --disabled-bg-color: #DDD;\n",
              "  }\n",
              "\n",
              "  [theme=dark] .colab-df-quickchart {\n",
              "      --bg-color: #3B4455;\n",
              "      --fill-color: #D2E3FC;\n",
              "      --hover-bg-color: #434B5C;\n",
              "      --hover-fill-color: #FFFFFF;\n",
              "      --disabled-bg-color: #3B4455;\n",
              "      --disabled-fill-color: #666;\n",
              "  }\n",
              "\n",
              "  .colab-df-quickchart {\n",
              "    background-color: var(--bg-color);\n",
              "    border: none;\n",
              "    border-radius: 50%;\n",
              "    cursor: pointer;\n",
              "    display: none;\n",
              "    fill: var(--fill-color);\n",
              "    height: 32px;\n",
              "    padding: 0;\n",
              "    width: 32px;\n",
              "  }\n",
              "\n",
              "  .colab-df-quickchart:hover {\n",
              "    background-color: var(--hover-bg-color);\n",
              "    box-shadow: 0 1px 2px rgba(60, 64, 67, 0.3), 0 1px 3px 1px rgba(60, 64, 67, 0.15);\n",
              "    fill: var(--button-hover-fill-color);\n",
              "  }\n",
              "\n",
              "  .colab-df-quickchart-complete:disabled,\n",
              "  .colab-df-quickchart-complete:disabled:hover {\n",
              "    background-color: var(--disabled-bg-color);\n",
              "    fill: var(--disabled-fill-color);\n",
              "    box-shadow: none;\n",
              "  }\n",
              "\n",
              "  .colab-df-spinner {\n",
              "    border: 2px solid var(--fill-color);\n",
              "    border-color: transparent;\n",
              "    border-bottom-color: var(--fill-color);\n",
              "    animation:\n",
              "      spin 1s steps(1) infinite;\n",
              "  }\n",
              "\n",
              "  @keyframes spin {\n",
              "    0% {\n",
              "      border-color: transparent;\n",
              "      border-bottom-color: var(--fill-color);\n",
              "      border-left-color: var(--fill-color);\n",
              "    }\n",
              "    20% {\n",
              "      border-color: transparent;\n",
              "      border-left-color: var(--fill-color);\n",
              "      border-top-color: var(--fill-color);\n",
              "    }\n",
              "    30% {\n",
              "      border-color: transparent;\n",
              "      border-left-color: var(--fill-color);\n",
              "      border-top-color: var(--fill-color);\n",
              "      border-right-color: var(--fill-color);\n",
              "    }\n",
              "    40% {\n",
              "      border-color: transparent;\n",
              "      border-right-color: var(--fill-color);\n",
              "      border-top-color: var(--fill-color);\n",
              "    }\n",
              "    60% {\n",
              "      border-color: transparent;\n",
              "      border-right-color: var(--fill-color);\n",
              "    }\n",
              "    80% {\n",
              "      border-color: transparent;\n",
              "      border-right-color: var(--fill-color);\n",
              "      border-bottom-color: var(--fill-color);\n",
              "    }\n",
              "    90% {\n",
              "      border-color: transparent;\n",
              "      border-bottom-color: var(--fill-color);\n",
              "    }\n",
              "  }\n",
              "</style>\n",
              "\n",
              "  <script>\n",
              "    async function quickchart(key) {\n",
              "      const quickchartButtonEl =\n",
              "        document.querySelector('#' + key + ' button');\n",
              "      quickchartButtonEl.disabled = true;  // To prevent multiple clicks.\n",
              "      quickchartButtonEl.classList.add('colab-df-spinner');\n",
              "      try {\n",
              "        const charts = await google.colab.kernel.invokeFunction(\n",
              "            'suggestCharts', [key], {});\n",
              "      } catch (error) {\n",
              "        console.error('Error during call to suggestCharts:', error);\n",
              "      }\n",
              "      quickchartButtonEl.classList.remove('colab-df-spinner');\n",
              "      quickchartButtonEl.classList.add('colab-df-quickchart-complete');\n",
              "    }\n",
              "    (() => {\n",
              "      let quickchartButtonEl =\n",
              "        document.querySelector('#df-5e45efa3-24eb-4282-b3b1-398c23465ad6 button');\n",
              "      quickchartButtonEl.style.display =\n",
              "        google.colab.kernel.accessAllowed ? 'block' : 'none';\n",
              "    })();\n",
              "  </script>\n",
              "</div>\n",
              "    </div>\n",
              "  </div>\n"
            ]
          },
          "metadata": {},
          "execution_count": 20
        }
      ]
    },
    {
      "cell_type": "markdown",
      "metadata": {
        "id": "PI3SRWODaVOR"
      },
      "source": [
        "## Iterating through pandas dataframes\n",
        "- We can use the DataFrame method iterrows() to create a list of the DataFrame rows that we access through variables"
      ]
    },
    {
      "cell_type": "code",
      "metadata": {
        "id": "tZfQrDxPazIu",
        "colab": {
          "base_uri": "https://localhost:8080/"
        },
        "outputId": "bf986f53-4c89-4c38-f3d8-0296bb49876e"
      },
      "source": [
        "for customer in data[\"Customers\"].to_dict(orient=\"records\"):\n",
        "   print(customer[\"FirstName\"])"
      ],
      "execution_count": 21,
      "outputs": [
        {
          "output_type": "stream",
          "name": "stdout",
          "text": [
            "Christopher\n",
            "Michelle\n",
            "Franco\n",
            "Wendy\n",
            "Lim\n",
            "Shan\n",
            "Lou Ann\n",
            "Tesa\n",
            "Margaret\n",
            "Charles\n",
            "Jeffrey\n",
            "John\n",
            "Mark\n",
            "Brad\n",
            "Todd\n",
            "Victoria\n",
            "Brad\n",
            "Evan\n",
            "Chuck\n",
            "Jennifer\n",
            "Elizabeth\n",
            "Clarence\n",
            "Gregory\n",
            "Charles\n",
            "Kelly\n",
            "Joe\n",
            "Bill\n",
            "Anka\n",
            "Megan\n",
            "Eryn\n",
            "Jorge\n",
            "Allen\n",
            "Olivier\n",
            "Sarah\n",
            "William\n",
            "Martin\n",
            "John\n",
            "Dustin\n",
            "Eric\n",
            "Peter\n",
            "Jeremy\n",
            "Allison\n",
            "Rachel\n",
            "Frank\n",
            "Clent\n",
            "Allen\n",
            "Jake\n",
            "Louis\n",
            "Reagan\n"
          ]
        }
      ]
    },
    {
      "cell_type": "markdown",
      "metadata": {
        "id": "dAkgVsuYfWXf"
      },
      "source": [
        "## Actually creating files"
      ]
    },
    {
      "cell_type": "markdown",
      "metadata": {
        "id": "gOYHXmLHVvGM"
      },
      "source": [
        "### Create Constants/Functions that we use multiple times"
      ]
    },
    {
      "cell_type": "code",
      "metadata": {
        "id": "zmac9h78feTO"
      },
      "source": [
        "# Declare constant PROJECT_NAME for C# using statements\n",
        "PROJECT_NAME = \"SeedingTutorial\""
      ],
      "execution_count": null,
      "outputs": []
    },
    {
      "cell_type": "code",
      "metadata": {
        "id": "qU4RswbJlpgo"
      },
      "source": [
        "# Declare a function to get the beginning part of the Seeding files\n",
        "# We do this because each seeding file will need the same using statements\n",
        "# DRY - Don't Repeat Yourself\n",
        "def using_statements():\n",
        "  \"\"\"Returns the using statements and adds the opening brackets necessary for\"\"\"\n",
        "\n",
        "\n",
        "\n",
        "  return f\"\"\"\n",
        "using {PROJECT_NAME}.DAL;\n",
        "using {PROJECT_NAME}.Models;\n",
        "using {PROJECT_NAME}.Utilities;\n",
        "using System;\n",
        "using System.Collections.Generic;\n",
        "using System.Linq;\n",
        "using System.Text;\n",
        "using System.Threading.Tasks;\n",
        "using Microsoft.AspNetCore.Identity;\n",
        "\n",
        "namespace {PROJECT_NAME}.Seeding\n",
        "{{\n",
        "\"\"\""
      ],
      "execution_count": null,
      "outputs": []
    },
    {
      "cell_type": "markdown",
      "metadata": {
        "id": "YeFMsgLhle8k"
      },
      "source": [
        "### Creating customers/AppUsers file"
      ]
    },
    {
      "cell_type": "markdown",
      "metadata": {
        "id": "x-4RqMIBlkc2"
      },
      "source": [
        "Create beginning of customers seeding file"
      ]
    },
    {
      "cell_type": "code",
      "metadata": {
        "id": "pxD6sPMEmCzp"
      },
      "source": [
        "# Instantiate a string to hold the customers seeding text\n",
        "customers_string = \"\"\n",
        "\n",
        "# Adds the using statements necessary for the C# code to work\n",
        "customers_string += using_statements()\n",
        "\n",
        "# Adds necessary C# code for adding users, based off of HW3's seeding code.\n",
        "# No variables are needed so there is no need to make it an f-string\n",
        "customers_string += \"\"\"\n",
        "    public static class SeedUsersTutorial\n",
        "    {\n",
        "        public async static Task<IdentityResult> SeedAllUsers(UserManager<AppUser> userManager, AppDbContext context)\n",
        "        {\n",
        "            //Create a list of AddUserModels\n",
        "            List<AddUserModel> AllUsers = new List<AddUserModel>();\n",
        "\n",
        "\"\"\""
      ],
      "execution_count": null,
      "outputs": []
    },
    {
      "cell_type": "markdown",
      "metadata": {
        "id": "4CI2Ul3FmHwG"
      },
      "source": [
        "Iterating through each customer record and adding it to our string"
      ]
    },
    {
      "cell_type": "code",
      "metadata": {
        "id": "Vk6qJqxtmMZ0"
      },
      "source": [
        "# Iterate through all customers and add the values to the string\n",
        "for customer in data[\"Customers\"].to_dict(orient=\"records\"):\n",
        "  # For each customer in the data, create new lines of code that specify the User's properties\n",
        "  customers_string += f\"\"\"\n",
        "            AllUsers.Add(new AddUserModel()\n",
        "            {{\n",
        "                User = new AppUser()\n",
        "                {{\n",
        "                    //populate the user properties that are from the\n",
        "                    //IdentityUser base class\n",
        "                    UserName = \"{customer[\"EmailAddress\"]}\",\n",
        "                    Email = \"{customer[\"EmailAddress\"]}\",\n",
        "                    PhoneNumber = \"{customer[\"Phone\"]}\",\n",
        "\n",
        "                    // Add additional fields that you created on the AppUser class\n",
        "                    //FirstName is included as an example\n",
        "                    FirstName = \"{customer[\"FirstName\"]}\",\n",
        "                    LastName = \"{customer[\"LastName\"]}\",\n",
        "                    Address = \"{customer[\"Address\"]}\",\n",
        "                    ZipCode = \"{customer[\"ZipCode\"]}\",\n",
        "                    Enabled = true,\n",
        "                    Fired = false,\n",
        "                }},\n",
        "                Password = \"{customer[\"Password\"]}\",\n",
        "                RoleName = \"Customer\"\n",
        "            }});\n",
        "\"\"\""
      ],
      "execution_count": null,
      "outputs": []
    },
    {
      "cell_type": "code",
      "metadata": {
        "id": "06aCWOTp5exr"
      },
      "source": [
        "#print(customers_string)"
      ],
      "execution_count": null,
      "outputs": []
    },
    {
      "cell_type": "markdown",
      "metadata": {
        "id": "0ju0VvzfmNsr"
      },
      "source": [
        "Add the ending part of the string that actually adds each AppUser object that we created in the list previously"
      ]
    },
    {
      "cell_type": "code",
      "metadata": {
        "id": "8NbH3931fpY0"
      },
      "source": [
        "\n",
        "\n",
        "# After adding each customer to a list of AppUsers to add, we need to add each new AppUser\n",
        "# to our database with built-in identity functions\n",
        "# We will also use try{} blocks to catch errors that arise when seeding a customer\n",
        "\n",
        "customers_string += \"\"\"\n",
        "            //create flag to help with errors\n",
        "            String errorFlag = \"Start\";\n",
        "\n",
        "            //create an identity result\n",
        "            IdentityResult result = new IdentityResult();\n",
        "            //call the method to seed the user\n",
        "            try\n",
        "            {\n",
        "                foreach (AddUserModel aum in AllUsers)\n",
        "                {\n",
        "                    errorFlag = aum.User.Email;\n",
        "                    // Took Utilities.AddUser from Relational Data Demo -> this is \"Utilities/AddUser.cs\"\n",
        "                    result = await Utilities.AddUser.AddUserWithRoleAsync(aum, userManager, context);\n",
        "                }\n",
        "            }\n",
        "            catch (Exception ex)\n",
        "            {\n",
        "                throw new Exception(\"There was a problem adding the user with email: \"\n",
        "                    + errorFlag, ex);\n",
        "            }\n",
        "\n",
        "            return result;\n",
        "\n",
        "        }\n",
        "    }\n",
        "}\n",
        "\"\"\"\n"
      ],
      "execution_count": null,
      "outputs": []
    },
    {
      "cell_type": "code",
      "metadata": {
        "id": "Tu3A7ccak27c"
      },
      "source": [
        "#print(customers_string)"
      ],
      "execution_count": null,
      "outputs": []
    },
    {
      "cell_type": "markdown",
      "metadata": {
        "id": "7feyFaPxmgYp"
      },
      "source": [
        "Write the string to a file"
      ]
    },
    {
      "cell_type": "code",
      "metadata": {
        "id": "ZZfZA5uBmi2h"
      },
      "source": [
        "file = open(\"SeedCustomersTutorial.cs\", \"w\")\n",
        "file.write(customers_string)\n",
        "file.close()"
      ],
      "execution_count": null,
      "outputs": []
    },
    {
      "cell_type": "markdown",
      "metadata": {
        "id": "kjhUCXJim3zN"
      },
      "source": [
        "### Create seeding file for Artists"
      ]
    },
    {
      "cell_type": "markdown",
      "metadata": {
        "id": "ayxGwvEXdT8s"
      },
      "source": [
        "Add the beginning part of the SeedArtists string:"
      ]
    },
    {
      "cell_type": "code",
      "metadata": {
        "id": "7fSsvvm4a2Nr"
      },
      "source": [
        "artists_string = \"\"\n",
        "\n",
        "artists_string += using_statements()\n",
        "\n",
        "artists_string += \"\"\"\n",
        "\n",
        "    public static class SeedArtistsTutorial\n",
        "    {\n",
        "        public static void SeedAllArtists(AppDbContext db)\n",
        "        {\n",
        "            List<Artist> AllArtists = new List<Artist>();\n",
        "\n",
        "\"\"\""
      ],
      "execution_count": null,
      "outputs": []
    },
    {
      "cell_type": "markdown",
      "metadata": {
        "id": "UuHF_UyzdL1p"
      },
      "source": [
        "Loop through each artist row in the dataframe and add the artist's name:"
      ]
    },
    {
      "cell_type": "code",
      "metadata": {
        "id": "7VAou1uhdKO6"
      },
      "source": [
        "for artist in data[\"Artists\"].to_dict(orient=\"records\"):\n",
        "  artists_string += f\"\"\"\n",
        "\n",
        "            AllArtists.Add(new Artist\n",
        "            {{\n",
        "                ArtistName = \"{artist[\"Artist\"]}\",\n",
        "                ArtistFeatured = false,\n",
        "            }}) ;\n",
        "\"\"\"\n"
      ],
      "execution_count": null,
      "outputs": []
    },
    {
      "cell_type": "markdown",
      "metadata": {
        "id": "tHrCtxFidbz6"
      },
      "source": [
        "Add the part of the string that actually adds the Artists to the database"
      ]
    },
    {
      "cell_type": "code",
      "metadata": {
        "id": "_d0J_pyjdw04"
      },
      "source": [
        "artists_string += f\"\"\"\n",
        "            //create a counter and flag to help with debugging\n",
        "            int intArtistID = 0;\n",
        "            String strArtistName = \"Start\";\n",
        "\n",
        "            //we are now going to add the data to the database\n",
        "            //this could cause errors, so we need to put this code\n",
        "            //into a Try/Catch block\n",
        "            try\n",
        "            {{\n",
        "                //loop through each of the artists\n",
        "                foreach (Artist seedArtist in AllArtists)\n",
        "                {{\n",
        "                    //updates the counters to get info on where the problem is\n",
        "                    intArtistID = seedArtist.ArtistID;\n",
        "                    strArtistName = seedArtist.ArtistName;\n",
        "\n",
        "                    //try to find the artist in the database\n",
        "                    Artist dbArtist = db.Artists.FirstOrDefault(c => c.ArtistName == seedArtist.ArtistName);\n",
        "\n",
        "                    //if the artist isn't in the database, dbArtist will be null\n",
        "                    if (dbArtist == null)\n",
        "                    {{\n",
        "                        //add the Artist to the database\n",
        "                        db.Artists.Add(seedArtist);\n",
        "                        db.SaveChanges();\n",
        "                    }}\n",
        "                    else //the record is in the database\n",
        "                    {{\n",
        "                        //update all the fields\n",
        "                        //this isn't really needed for artist because it only has one field\n",
        "                        //but you will need it to re-set seeded data with more fields\n",
        "                        dbArtist.ArtistName = seedArtist.ArtistName;\n",
        "                        dbArtist.ArtistFeatured = seedArtist.ArtistFeatured;\n",
        "                        //you would add other fields here\n",
        "                        db.SaveChanges();\n",
        "                    }}\n",
        "\n",
        "                }}\n",
        "            }}\n",
        "            catch (Exception ex) //something about adding to the database caused a problem\n",
        "            {{\n",
        "                //create a new instance of the string builder to make building out\n",
        "                //our message neater - we don't want a REALLY long line of code for this\n",
        "                //so we break it up into several lines\n",
        "                StringBuilder msg = new StringBuilder();\n",
        "\n",
        "                msg.Append(\"There was an error adding the \");\n",
        "                msg.Append(strArtistName);\n",
        "                msg.Append(\" artist (ArtistID = \");\n",
        "                msg.Append(intArtistID);\n",
        "                msg.Append(\")\");\n",
        "\n",
        "                //have this method throw the exception to the calling method\n",
        "                //this code wraps the exception from the database with the\n",
        "                //custom message we built above. The original error from the\n",
        "                //database becomes the InnerException\n",
        "                throw new Exception(msg.ToString(), ex);\n",
        "            }}\n",
        "\n",
        "        }}\n",
        "    }}\n",
        "\n",
        "}}\n",
        "\"\"\""
      ],
      "execution_count": null,
      "outputs": []
    },
    {
      "cell_type": "markdown",
      "metadata": {
        "id": "k2FY32KOe_7M"
      },
      "source": [
        "Write the string to a file"
      ]
    },
    {
      "cell_type": "code",
      "metadata": {
        "id": "dKZVdhfEfB8v"
      },
      "source": [
        "file = open(\"SeedArtistsTutorial.cs\", \"w\")\n",
        "file.write(artists_string)\n",
        "file.close()"
      ],
      "execution_count": null,
      "outputs": []
    },
    {
      "cell_type": "markdown",
      "metadata": {
        "id": "zkebSDN6m6Z7"
      },
      "source": [
        "### Create seeding file for Artist Ratings"
      ]
    },
    {
      "cell_type": "markdown",
      "metadata": {
        "id": "KnAGpnjEfVC0"
      },
      "source": [
        "Add the beginning of SeedArtistRatings.cs string:"
      ]
    },
    {
      "cell_type": "code",
      "metadata": {
        "id": "vmCuXUsxfSDe"
      },
      "source": [
        "artist_ratings_string = \"\"\n",
        "\n",
        "artist_ratings_string += using_statements()\n",
        "\n",
        "artist_ratings_string += \"\"\"\n",
        "\n",
        "    public static class SeedArtistRatingsTutorial\n",
        "    {\n",
        "        public static void SeedAllArtistRatings(AppDbContext db)\n",
        "        {\n",
        "            List<ArtistRating> AllArtistRatings = new List<ArtistRating>();\n",
        "\n",
        "\"\"\""
      ],
      "execution_count": null,
      "outputs": []
    },
    {
      "cell_type": "markdown",
      "metadata": {
        "id": "l6BT697af06x"
      },
      "source": [
        "Loop through the artist ratings/reviews in the dataframe"
      ]
    },
    {
      "cell_type": "code",
      "metadata": {
        "id": "aRLgu-Sdf8r4",
        "colab": {
          "base_uri": "https://localhost:8080/"
        },
        "outputId": "f6340129-7b5c-4bb1-ac64-cd04e2e6833d"
      },
      "source": [
        "for artist_rating in data[\"Artist Reviews\"].to_dict(orient=\"records\"):\n",
        "  comment = artist_rating[\"Comment\"]\n",
        "  if str(comment) == \"nan\":\n",
        "    comment = \"\"\n",
        "  artist_ratings_string += f\"\"\"\n",
        "\n",
        "            AllArtistRatings.Add(new ArtistRating\n",
        "            {{\n",
        "                Artist = db.Artists.FirstOrDefault(c => c.ArtistName == \"{artist_rating[\"Artist\"]}\"),\n",
        "                AppUser = db.Users.FirstOrDefault(u => u.FirstName + \" \" + u.LastName == \"{artist_rating[\"Customer\"]}\"),\n",
        "                ArtistRatingVal = {artist_rating[\"Rating\"]:.1f}m,\n",
        "                ArtistReviewDescription = \"{comment}\",\n",
        "                ArtistRatingApproved = true,\n",
        "\n",
        "            }}) ;\n",
        "\"\"\"\n",
        "print(artist_ratings_string)"
      ],
      "execution_count": null,
      "outputs": [
        {
          "output_type": "stream",
          "name": "stdout",
          "text": [
            "\n",
            "using SeedingTutorial.DAL;\n",
            "using SeedingTutorial.Models;\n",
            "using SeedingTutorial.Utilities;\n",
            "using System;\n",
            "using System.Collections.Generic;\n",
            "using System.Linq;\n",
            "using System.Text;\n",
            "using System.Threading.Tasks;\n",
            "using Microsoft.AspNetCore.Identity;\n",
            "\n",
            "namespace SeedingTutorial.Seeding\n",
            "{\n",
            "\n",
            "\n",
            "    public static class SeedArtistRatingsTutorial\n",
            "    {\n",
            "        public static void SeedAllArtistRatings(AppDbContext db)\n",
            "        {\n",
            "            List<ArtistRating> AllArtistRatings = new List<ArtistRating>();\n",
            "    \n",
            "\n",
            "\n",
            "            AllArtistRatings.Add(new ArtistRating\n",
            "            {\n",
            "                Artist = db.Artists.FirstOrDefault(c => c.ArtistName == \"Drake\"),\n",
            "                AppUser = db.Users.FirstOrDefault(u => u.FirstName + \" \" + u.LastName == \"Evan Lowe\"),\n",
            "                ArtistRatingVal = 5.0m,\n",
            "                ArtistReviewDescription = \"He had a great year!! Amazing songs!\",\n",
            "                ArtistRatingApproved = true,\n",
            "\n",
            "            }) ; \n",
            "\n",
            "\n",
            "            AllArtistRatings.Add(new ArtistRating\n",
            "            {\n",
            "                Artist = db.Artists.FirstOrDefault(c => c.ArtistName == \"Pitbull\"),\n",
            "                AppUser = db.Users.FirstOrDefault(u => u.FirstName + \" \" + u.LastName == \"Lim Chou\"),\n",
            "                ArtistRatingVal = 2.0m,\n",
            "                ArtistReviewDescription = \"\",\n",
            "                ArtistRatingApproved = true,\n",
            "\n",
            "            }) ; \n",
            "\n",
            "\n",
            "            AllArtistRatings.Add(new ArtistRating\n",
            "            {\n",
            "                Artist = db.Artists.FirstOrDefault(c => c.ArtistName == \"Lady Gaga\"),\n",
            "                AppUser = db.Users.FirstOrDefault(u => u.FirstName + \" \" + u.LastName == \"Lim Chou\"),\n",
            "                ArtistRatingVal = 5.0m,\n",
            "                ArtistReviewDescription = \"\",\n",
            "                ArtistRatingApproved = true,\n",
            "\n",
            "            }) ; \n",
            "\n",
            "\n",
            "            AllArtistRatings.Add(new ArtistRating\n",
            "            {\n",
            "                Artist = db.Artists.FirstOrDefault(c => c.ArtistName == \"Adele \"),\n",
            "                AppUser = db.Users.FirstOrDefault(u => u.FirstName + \" \" + u.LastName == \"John Smith\"),\n",
            "                ArtistRatingVal = 4.0m,\n",
            "                ArtistReviewDescription = \"\",\n",
            "                ArtistRatingApproved = true,\n",
            "\n",
            "            }) ; \n",
            "\n",
            "\n",
            "            AllArtistRatings.Add(new ArtistRating\n",
            "            {\n",
            "                Artist = db.Artists.FirstOrDefault(c => c.ArtistName == \"Nicki Minaj\"),\n",
            "                AppUser = db.Users.FirstOrDefault(u => u.FirstName + \" \" + u.LastName == \"Frank Tee\"),\n",
            "                ArtistRatingVal = 1.0m,\n",
            "                ArtistReviewDescription = \"She went downhill.\",\n",
            "                ArtistRatingApproved = true,\n",
            "\n",
            "            }) ; \n",
            "\n",
            "\n",
            "            AllArtistRatings.Add(new ArtistRating\n",
            "            {\n",
            "                Artist = db.Artists.FirstOrDefault(c => c.ArtistName == \"Taylor Swift\"),\n",
            "                AppUser = db.Users.FirstOrDefault(u => u.FirstName + \" \" + u.LastName == \"Todd Jacobs\"),\n",
            "                ArtistRatingVal = 5.0m,\n",
            "                ArtistReviewDescription = \"Taylor is the best artisit ever!!!\",\n",
            "                ArtistRatingApproved = true,\n",
            "\n",
            "            }) ; \n",
            "\n"
          ]
        }
      ]
    },
    {
      "cell_type": "markdown",
      "metadata": {
        "id": "r22KolTJhLIo"
      },
      "source": [
        "Add the code that adds each artist rating to the database"
      ]
    },
    {
      "cell_type": "code",
      "metadata": {
        "id": "BqsFQJami8_-"
      },
      "source": [
        "artist_ratings_string += f\"\"\"\n",
        "            //create a counter and flag to help with debugging\n",
        "            int intArtistRatingID = 0;\n",
        "            String strArtistReviewCustomer = \"Start\";\n",
        "            String strArtistReviewArtist = \"Start\";\n",
        "\n",
        "            //we are now going to add the data to the database\n",
        "            //this could cause errors, so we need to put this code\n",
        "            //into a Try/Catch block\n",
        "            try\n",
        "            {{\n",
        "                //loop through each of the artistRatings\n",
        "                foreach (ArtistRating seedArtistRating in AllArtistRatings)\n",
        "                {{\n",
        "                    //updates the counters to get info on where the problem is\n",
        "                    intArtistRatingID = seedArtistRating.ArtistRatingID;\n",
        "                    strArtistReviewCustomer = seedArtistRating.AppUser.FirstName + seedArtistRating.AppUser.LastName;\n",
        "                    strArtistReviewArtist = seedArtistRating.Artist.ArtistName;\n",
        "\n",
        "                    //try to find the artistRating in the database based on whether there already exists and artist review with\n",
        "                    //the same artist name and the same appuser's first + last name associated with it\n",
        "                    ArtistRating dbArtistRating = db.ArtistRatings.FirstOrDefault(c => (c.Artist.ArtistName == seedArtistRating.Artist.ArtistName) &&\n",
        "                                                                                       (c.AppUser.FirstName + \" \" + c.AppUser.LastName == seedArtistRating.AppUser.FullName)\n",
        "                                                                                  );\n",
        "\n",
        "                    //if the artistRating isn't in the database, dbArtistRating will be null\n",
        "                    if (dbArtistRating == null)\n",
        "                    {{\n",
        "                        //add the ArtistRating to the database\n",
        "                        db.ArtistRatings.Add(seedArtistRating);\n",
        "                        db.SaveChanges();\n",
        "                    }}\n",
        "                    else //the record is in the database\n",
        "                    {{\n",
        "                        //update all the fields\n",
        "                        //this isn't really needed for artistRating because it only has one field\n",
        "                        //but you will need it to re-set seeded data with more fields\n",
        "                        dbArtistRating.ArtistRatingVal = seedArtistRating.ArtistRatingVal;\n",
        "                        dbArtistRating.ArtistReviewDescription = seedArtistRating.ArtistReviewDescription;\n",
        "                        dbArtistRating.ArtistRatingApproved = seedArtistRating.ArtistRatingApproved;\n",
        "\n",
        "\n",
        "\n",
        "                        //you would add other fields here\n",
        "                        db.SaveChanges();\n",
        "                    }}\n",
        "                }}\n",
        "            }}\n",
        "            catch (Exception ex) //something about adding to the database caused a problem\n",
        "            {{\n",
        "                //create a new instance of the string builder to make building out\n",
        "                //our message neater - we don't want a REALLY long line of code for this\n",
        "                //so we break it up into several lines\n",
        "                StringBuilder msg = new StringBuilder();\n",
        "\n",
        "                msg.Append(\"There was an error adding the \");\n",
        "                msg.Append(strArtistReviewCustomer);\n",
        "                msg.Append(strArtistReviewArtist);\n",
        "                msg.Append(\" strArtistReviewCustomer and strArtistReviewArtist (ArtistRatingID = \");\n",
        "                msg.Append(intArtistRatingID);\n",
        "                msg.Append(\")\");\n",
        "\n",
        "                //have this method throw the exception to the calling method\n",
        "                //this code wraps the exception from the database with the\n",
        "                //custom message we built above. The original error from the\n",
        "                //database becomes the InnerException\n",
        "                throw new Exception(msg.ToString(), ex);\n",
        "            }}\n",
        "\n",
        "        }}\n",
        "    }}\n",
        "\n",
        "}}\n",
        "\"\"\""
      ],
      "execution_count": null,
      "outputs": []
    },
    {
      "cell_type": "markdown",
      "metadata": {
        "id": "p7w2IPbPkCvM"
      },
      "source": [
        "Output the string to a file"
      ]
    },
    {
      "cell_type": "code",
      "metadata": {
        "id": "cchjZHFekEjQ"
      },
      "source": [
        "file = open(\"SeedArtistRatingsTutorial.cs\", \"w\")\n",
        "file.write(artist_ratings_string)\n",
        "file.close()"
      ],
      "execution_count": null,
      "outputs": []
    }
  ]
}